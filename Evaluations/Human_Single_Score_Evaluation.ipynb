{
 "cells": [
  {
   "cell_type": "markdown",
   "id": "127a9f5e",
   "metadata": {},
   "source": [
    "# Human Scoring Results - Analyzer"
   ]
  },
  {
   "cell_type": "code",
   "execution_count": null,
   "id": "0a152bce",
   "metadata": {},
   "outputs": [
    {
     "name": "stdout",
     "output_type": "stream",
     "text": [
      "Configured Excel path: D:\\Khalifa University 2024\\Conferences - Research\\Al-Ain 2025\\Weed-VLM Data Set\\Comprehensive_WeedVLM.xlsx\n",
      "Sheet name: Gemini_Flash_2.5\n"
     ]
    }
   ],
   "source": [
    "import pandas as pd\n",
    "from pathlib import Path\n",
    "\n",
    "excel_path = Path(\"Weed-VLM Data Set/Comprehensive_WeedVLM.xlsx\")  # <- change this to your actual file name\n",
    "sheet_name = \"Gemini_Flash_2.5\"  # can be a sheet name (str) or index (int), e.g. \"Sheet1\" or 0\n",
    "\n",
    "print(f\"Configured Excel path: {excel_path.resolve()}\")\n",
    "print(f\"Sheet name: {sheet_name}\")\n"
   ]
  },
  {
   "cell_type": "code",
   "execution_count": null,
   "id": "79202527",
   "metadata": {},
   "outputs": [
    {
     "name": "stdout",
     "output_type": "stream",
     "text": [
      "Column headers (in order):\n",
      "  1: #\n",
      "  2: Image Name\n",
      "  3: Image\n",
      "  4: Weed Visualizer\n",
      "  5: Weed Detection (GT)\n",
      "  6: Weed Location (GT)\n",
      "  7: Crop Growth (GT)\n",
      "  8: Crop Type (GT)\n",
      "  9: Gemini_Response\n",
      " 10: Weed Detection (Prediction)\n",
      " 11: Weed Location (Prediction)\n",
      " 12: Crop Growth (Prediction)\n",
      " 13: Crop Type (Prediction)\n",
      " 14: Reasoning (Prediction)\n",
      " 15: V2_Weed Detection (Prediction)\n",
      " 16: V2_Weed Location (Prediction)\n",
      " 17: V2_Crop Growth (Prediction)\n",
      " 18: V2_Crop Type (Prediction)\n",
      " 19: V2_Reasoning (Prediction)\n",
      " 20: Weed Detection Penalty (Prompt Entry)\n",
      " 21: Penalty Details\n",
      " 22: Human Review Score\n",
      " 23: Grounding\n",
      "(0-5)\n",
      " 24: Specificity\n",
      "(0-5)\n",
      " 25: Plausibility\n",
      "(0-5)\n",
      " 26: Non-Hallucination\n",
      "(0-5)\n",
      " 27: Actionability\n",
      "(0-5)\n",
      " 28: Original Prompt\n",
      " 29: EPP Prompt\n",
      "Note: 'AB' not found by name. Used positional column 28 (index 27) as fallback.\n",
      "Note: Using positional columns W..AA -> indices 22..26 mapped to ['Grounding\\n(0-5)', 'Specificity\\n(0-5)', 'Plausibility\\n(0-5)', 'Non-Hallucination\\n(0-5)', 'Actionability\\n(0-5)']\n",
      "Count of rows where AB == 'Yes': 329\n",
      "\n",
      "Column means for W..AA (based on AB == 'Yes'):\n",
      "\n"
     ]
    },
    {
     "data": {
      "text/html": [
       "<div>\n",
       "<style scoped>\n",
       "    .dataframe tbody tr th:only-of-type {\n",
       "        vertical-align: middle;\n",
       "    }\n",
       "\n",
       "    .dataframe tbody tr th {\n",
       "        vertical-align: top;\n",
       "    }\n",
       "\n",
       "    .dataframe thead th {\n",
       "        text-align: right;\n",
       "    }\n",
       "</style>\n",
       "<table border=\"1\" class=\"dataframe\">\n",
       "  <thead>\n",
       "    <tr style=\"text-align: right;\">\n",
       "      <th></th>\n",
       "      <th>Grounding\\n(0-5)</th>\n",
       "      <th>Specificity\\n(0-5)</th>\n",
       "      <th>Plausibility\\n(0-5)</th>\n",
       "      <th>Non-Hallucination\\n(0-5)</th>\n",
       "      <th>Actionability\\n(0-5)</th>\n",
       "    </tr>\n",
       "  </thead>\n",
       "  <tbody>\n",
       "    <tr>\n",
       "      <th>mean</th>\n",
       "      <td>2.243161</td>\n",
       "      <td>2.066869</td>\n",
       "      <td>4.537994</td>\n",
       "      <td>4.893617</td>\n",
       "      <td>2.620061</td>\n",
       "    </tr>\n",
       "  </tbody>\n",
       "</table>\n",
       "</div>"
      ],
      "text/plain": [
       "      Grounding\\n(0-5)  Specificity\\n(0-5)  Plausibility\\n(0-5)  \\\n",
       "mean          2.243161            2.066869             4.537994   \n",
       "\n",
       "      Non-Hallucination\\n(0-5)  Actionability\\n(0-5)  \n",
       "mean                  4.893617              2.620061  "
      ]
     },
     "metadata": {},
     "output_type": "display_data"
    }
   ],
   "source": [
    "# --- After reading Excel ---\n",
    "df = pd.read_excel(excel_path, sheet_name=sheet_name)\n",
    "df = df.iloc[0:441].copy()  # keep rows 2..442\n",
    "\n",
    "# Show header info\n",
    "print(\"Column headers (in order):\")\n",
    "for i, col in enumerate(df.columns):\n",
    "    print(f\"{i+1:>3}: {col}\")\n",
    "\n",
    "\n",
    "# Normalize AB column to string for robust matching\n",
    "if \"AB\" in df.columns:\n",
    "    ab_series = df[\"AB\"].astype(str).str.strip().str.lower()\n",
    "else:\n",
    "    # If your file does not use lettered headers, try positional fallback:\n",
    "    # AB is the 28th Excel column (A=1 -> AB=28). Zero-based index => 27.\n",
    "    # We attempt to create a temporary 'AB' view from that position.\n",
    "    try:\n",
    "        ab_series = df.iloc[:, 27].astype(str).str.strip().str.lower()\n",
    "        print(\"Note: 'AB' not found by name. Used positional column 28 (index 27) as fallback.\")\n",
    "    except Exception as e:\n",
    "        raise KeyError(\"Could not find 'AB' by name or position. \"\n",
    "                       \"Please ensure your dataset has a column named 'AB' or that AB is the 28th column.\") from e\n",
    "\n",
    "mask_yes = ab_series.eq(\"yes\")\n",
    "\n",
    "# Determine the 5-score columns: W..AA\n",
    "# Preferred: use named headers 'W','X','Y','Z','AA' if present\n",
    "preferred_cols = [\"W\", \"X\", \"Y\", \"Z\", \"AA\"]\n",
    "available_preferred = [c for c in preferred_cols if c in df.columns]\n",
    "\n",
    "if len(available_preferred) == 5:\n",
    "    score_cols = available_preferred\n",
    "else:\n",
    "    # Fallback to positional slice if letter headers aren't present.\n",
    "    # Excel letters: W=23rd, X=24th, Y=25th, Z=26th, AA=27th (1-based)\n",
    "    # Zero-based indices: 22..26\n",
    "    try:\n",
    "        score_cols = list(df.columns[22:27])\n",
    "        if len(score_cols) != 5:\n",
    "            raise IndexError(\"Positional slice did not yield 5 columns.\")\n",
    "        print(f\"Note: Using positional columns W..AA -> indices 22..26 mapped to {score_cols}\")\n",
    "    except Exception as e:\n",
    "        raise KeyError(\"Could not determine columns W..AA by name or position. \"\n",
    "                       \"Ensure your data either has headers named W..AA or that these are columns 23..27.\") from e\n",
    "\n",
    "# Filter and compute means\n",
    "filtered = df.loc[mask_yes, score_cols]\n",
    "means = filtered.mean(numeric_only=True)  # skips non-numeric columns automatically\n",
    "\n",
    "print(\"Count of rows where AB == 'Yes':\", mask_yes.sum())\n",
    "print(\"\\nColumn means for W..AA (based on AB == 'Yes'):\\n\")\n",
    "display(means.to_frame(\"mean\").T)\n"
   ]
  },
  {
   "cell_type": "markdown",
   "id": "f86d26ec",
   "metadata": {},
   "source": [
    "### Version 2.0"
   ]
  },
  {
   "cell_type": "code",
   "execution_count": null,
   "id": "d90f06a3",
   "metadata": {},
   "outputs": [
    {
     "name": "stdout",
     "output_type": "stream",
     "text": [
      "Count of rows where Original Prompt == 'Yes': 198\n",
      "\n",
      "Column means:\n",
      "\n"
     ]
    },
    {
     "data": {
      "text/html": [
       "<div>\n",
       "<style scoped>\n",
       "    .dataframe tbody tr th:only-of-type {\n",
       "        vertical-align: middle;\n",
       "    }\n",
       "\n",
       "    .dataframe tbody tr th {\n",
       "        vertical-align: top;\n",
       "    }\n",
       "\n",
       "    .dataframe thead th {\n",
       "        text-align: right;\n",
       "    }\n",
       "</style>\n",
       "<table border=\"1\" class=\"dataframe\">\n",
       "  <thead>\n",
       "    <tr style=\"text-align: right;\">\n",
       "      <th></th>\n",
       "      <th>Grounding\\n(0-5)</th>\n",
       "      <th>Specificity\\n(0-5)</th>\n",
       "      <th>Plausibility\\n(0-5)</th>\n",
       "      <th>Non-Hallucination\\n(0-5)</th>\n",
       "      <th>Actionability\\n(0-5)</th>\n",
       "    </tr>\n",
       "  </thead>\n",
       "  <tbody>\n",
       "    <tr>\n",
       "      <th>mean</th>\n",
       "      <td>1.373737</td>\n",
       "      <td>1.257576</td>\n",
       "      <td>4.176768</td>\n",
       "      <td>4.949495</td>\n",
       "      <td>1.914141</td>\n",
       "    </tr>\n",
       "  </tbody>\n",
       "</table>\n",
       "</div>"
      ],
      "text/plain": [
       "      Grounding\\n(0-5)  Specificity\\n(0-5)  Plausibility\\n(0-5)  \\\n",
       "mean          1.373737            1.257576             4.176768   \n",
       "\n",
       "      Non-Hallucination\\n(0-5)  Actionability\\n(0-5)  \n",
       "mean                  4.949495              1.914141  "
      ]
     },
     "metadata": {},
     "output_type": "display_data"
    }
   ],
   "source": [
    "import pandas as pd\n",
    "from pathlib import Path\n",
    "\n",
    "# --- Config ---\n",
    "excel_path = Path(\"Weed-VLM Data Set/Comprehensive_WeedVLM.xlsx\")  # <- change this to your actual file name\n",
    "sheet_name = \"ChatGPT_4o\"  # can be a sheet name (str) or index (int), e.g. \"Sheet1\" or 0\n",
    "\n",
    "\n",
    "# --- Load & Trim ---\n",
    "df = pd.read_excel(excel_path, sheet_name=sheet_name)\n",
    "df = df.iloc[0:441].copy()  # Excel rows 2–442\n",
    "\n",
    "# --- Filter ---\n",
    "mask = df[\"Original Prompt\"].astype(str).str.strip().str.lower().eq(\"yes\")\n",
    "\n",
    "# --- Score Columns ---\n",
    "score_cols = [\n",
    "    \"Grounding\\n(0-5)\",\n",
    "    \"Specificity\\n(0-5)\",\n",
    "    \"Plausibility\\n(0-5)\",\n",
    "    \"Non-Hallucination\\n(0-5)\",\n",
    "    \"Actionability\\n(0-5)\"\n",
    "]\n",
    "\n",
    "# --- Clean and Convert ---\n",
    "filtered = df.loc[mask, score_cols].copy()\n",
    "for c in score_cols:\n",
    "    filtered[c] = (\n",
    "        filtered[c].astype(str)\n",
    "        .str.replace(\",\", \"\", regex=False)\n",
    "        .str.replace(\"%\", \"\", regex=False)\n",
    "        .str.strip()\n",
    "    )\n",
    "    filtered[c] = pd.to_numeric(filtered[c], errors=\"coerce\")\n",
    "\n",
    "# --- Compute Means ---\n",
    "means = filtered.mean(numeric_only=True)\n",
    "print(f\"Count of rows where Original Prompt == 'Yes': {mask.sum()}\\n\")\n",
    "print(\"Column means:\\n\")\n",
    "display(means.to_frame(\"mean\").T)\n"
   ]
  },
  {
   "cell_type": "code",
   "execution_count": null,
   "id": "ab6132f8",
   "metadata": {},
   "outputs": [],
   "source": []
  }
 ],
 "metadata": {
  "kernelspec": {
   "display_name": "vlm",
   "language": "python",
   "name": "python3"
  },
  "language_info": {
   "codemirror_mode": {
    "name": "ipython",
    "version": 3
   },
   "file_extension": ".py",
   "mimetype": "text/x-python",
   "name": "python",
   "nbconvert_exporter": "python",
   "pygments_lexer": "ipython3",
   "version": "3.8.18"
  }
 },
 "nbformat": 4,
 "nbformat_minor": 5
}
