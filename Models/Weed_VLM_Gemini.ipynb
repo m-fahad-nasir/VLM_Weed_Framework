{
 "cells": [
  {
   "cell_type": "markdown",
   "id": "9c9f4a7a",
   "metadata": {},
   "source": [
    "# Zero‑shot Weed Detection with Gemini VLMs (Batch Runner)"
   ]
  },
  {
   "cell_type": "code",
   "execution_count": null,
   "id": "f89fcab4",
   "metadata": {},
   "outputs": [
    {
     "name": "stdout",
     "output_type": "stream",
     "text": [
      "Found 441 images to process.\n"
     ]
    },
    {
     "name": "stderr",
     "output_type": "stream",
     "text": [
      "Processing images: 100%|██████████| 441/441 [39:50<00:00,  5.42s/it]"
     ]
    },
    {
     "name": "stdout",
     "output_type": "stream",
     "text": [
      "Saved progress at 441/441 images\n",
      "\n",
      "Final results saved to:\n",
      " CSV:   D:\\Khalifa University 2024\\Conferences - Research\\Al-Ain 2025\\gemini_flash_LITE_25_Fixed_weed_results.csv\n",
      " Excel: D:\\Khalifa University 2024\\Conferences - Research\\Al-Ain 2025\\gemini_flash_LITE_25_Fixed_weed_results.xlsx\n"
     ]
    },
    {
     "name": "stderr",
     "output_type": "stream",
     "text": [
      "\n"
     ]
    }
   ],
   "source": [
    "# --- Single Cell: Zero-shot Weed Detection with Google Gemini 2.5 (Flash / Flash-Lite) ---\n",
    "import os\n",
    "import time\n",
    "from pathlib import Path\n",
    "\n",
    "import pandas as pd\n",
    "from tqdm import tqdm\n",
    "\n",
    "# Google's official Generative AI SDK\n",
    "# pip install -U google-generativeai pandas tqdm\n",
    "import google.generativeai as genai\n",
    "\n",
    "# =========================\n",
    "# 🔐 CONFIG\n",
    "# =========================\n",
    "# Option A (recommended): set in your environment before running:\n",
    "#   os.environ[\"GOOGLE_API_KEY\"] = \"AI...your_key...\"\n",
    "# Option B: put the key directly here (okay for private runs)\n",
    "GOOGLE_API_KEY = \"\"\n",
    "\n",
    "genai.configure(api_key=GOOGLE_API_KEY)\n",
    "\n",
    "# ==== User Inputs ====\n",
    "IMAGE_FOLDER = \"/Joint_Val\"\n",
    "OUTPUT_CSV   = \"/gemini_flash_LITE_25_Fixed_weed_results.csv\"\n",
    "OUTPUT_EXCEL = \"/gemini_flash_LITE_25_Fixed_weed_results.xlsx\"\n",
    "\n",
    "# Choose a vision-capable Gemini model\n",
    "# Use either:\n",
    "#   \"gemini-2.5-flash\"      (faster, general)\n",
    "#   \"gemini-2.5-flash-lite\" (even lighter, cheaper)\n",
    "MODEL = \"gemini-2.5-flash-lite\"   # or \"gemini-2.5-flash-lite\"\n",
    "\n",
    "# ==================== PROMPT ====================\n",
    "PROMPT = (\n",
    "    \"Analyze the image and provide output in exactly this format, and nothing extra:\\n\"\n",
    "    \"Weed Detection: <Yes or No>\\n\"\n",
    "    \"Weed Location: <Mention Position in the Image>\\n\"\n",
    "    \"Reasoning: <Explain Reasoning>\\n\"\n",
    "    \"Crop Growth: <Early, Growing or Full Grown>\\n\"\n",
    "    \"Crop Type: <Predict Crop Type>\\n\"\n",
    "    \"If your main response is 'No' for Weed Detection, then rewrite the response again with V2_ \"\n",
    "    \"at the start of each field, below the Original response, assuming weed is present\\n\"\n",
    ")\n",
    "\n",
    "# Supported image extensions\n",
    "IMAGE_EXTS = {\".jpg\", \".jpeg\", \".png\", \".bmp\", \".tif\", \".tiff\", \".webp\"}\n",
    "\n",
    "# Retry/backoff\n",
    "MAX_RETRIES = 5\n",
    "INITIAL_BACKOFF = 2.0  # seconds\n",
    "\n",
    "# =========================\n",
    "# 🧰 Helpers\n",
    "# =========================\n",
    "def call_gemini_vision(image_path: Path, prompt: str, model_name: str) -> str:\n",
    "    \"\"\"\n",
    "    Uploads image file to Gemini, then generates content with the prompt + image.\n",
    "    Retries on transient errors with exponential backoff.\n",
    "    \"\"\"\n",
    "    # Upload the image\n",
    "    try:\n",
    "        image_file = genai.upload_file(path=str(image_path))\n",
    "    except Exception as e:\n",
    "        return f\"ERROR: Failed to upload file - {e}\"\n",
    "\n",
    "    model = genai.GenerativeModel(model_name)\n",
    "    backoff = INITIAL_BACKOFF\n",
    "\n",
    "    for attempt in range(1, MAX_RETRIES + 1):\n",
    "        try:\n",
    "            # Multimodal: prompt + image\n",
    "            resp = model.generate_content([prompt, image_file])\n",
    "            text = getattr(resp, \"text\", \"\") or \"\"\n",
    "            text = text.strip()\n",
    "            if not text:\n",
    "                # Try to extract from candidates/parts if text empty\n",
    "                try:\n",
    "                    cands = getattr(resp, \"candidates\", []) or []\n",
    "                    if cands and hasattr(cands[0], \"content\") and hasattr(cands[0].content, \"parts\"):\n",
    "                        parts = cands[0].content.parts\n",
    "                        text = \"\".join(getattr(p, \"text\", \"\") for p in parts).strip()\n",
    "                except Exception:\n",
    "                    pass\n",
    "            return text\n",
    "        except Exception as e:\n",
    "            if attempt == MAX_RETRIES:\n",
    "                return f\"ERROR: Max retries exceeded - {e}\"\n",
    "            time.sleep(backoff)\n",
    "            backoff *= 2\n",
    "\n",
    "    return \"ERROR: Unknown error occurred.\"\n",
    "\n",
    "# =========================\n",
    "# 🚀 Run Batch\n",
    "# =========================\n",
    "img_dir = Path(IMAGE_FOLDER)\n",
    "assert img_dir.is_dir(), f\"IMAGE_FOLDER does not exist: {img_dir}\"\n",
    "\n",
    "images = sorted([p for p in img_dir.iterdir() if p.suffix.lower() in IMAGE_EXTS])\n",
    "print(f\"Found {len(images)} images to process.\")\n",
    "\n",
    "out_csv = Path(OUTPUT_CSV)\n",
    "out_xlsx = Path(OUTPUT_EXCEL)\n",
    "out_csv.parent.mkdir(parents=True, exist_ok=True)\n",
    "out_xlsx.parent.mkdir(parents=True, exist_ok=True)\n",
    "\n",
    "rows = []\n",
    "for i, p in enumerate(tqdm(images, desc=\"Processing images\"), start=1):\n",
    "    try:\n",
    "        gemini_response = call_gemini_vision(p, PROMPT, MODEL)\n",
    "    except Exception as e:\n",
    "        gemini_response = f\"ERROR: {e}\"\n",
    "\n",
    "    rows.append({\"Image\": p.name, \"Gemini_Response\": gemini_response})\n",
    "\n",
    "    # Save incrementally (two columns only)\n",
    "    df = pd.DataFrame(rows, columns=[\"Image\", \"Gemini_Response\"])\n",
    "    df.to_csv(out_csv, index=False, encoding=\"utf-8\")\n",
    "    df.to_excel(out_xlsx, index=False)\n",
    "\n",
    "    # Occasional progress log\n",
    "    if i % 500 == 0 or i == len(images):\n",
    "        print(f\"Saved progress at {i}/{len(images)} images\")\n",
    "\n",
    "print(f\"\\nFinal results saved to:\\n CSV:   {out_csv}\\n Excel: {out_xlsx}\")\n"
   ]
  },
  {
   "cell_type": "code",
   "execution_count": null,
   "id": "c7ac6f82",
   "metadata": {},
   "outputs": [],
   "source": []
  }
 ],
 "metadata": {
  "kernelspec": {
   "display_name": "gemini_api",
   "language": "python",
   "name": "python3"
  },
  "language_info": {
   "codemirror_mode": {
    "name": "ipython",
    "version": 3
   },
   "file_extension": ".py",
   "mimetype": "text/x-python",
   "name": "python",
   "nbconvert_exporter": "python",
   "pygments_lexer": "ipython3",
   "version": "3.9.23"
  }
 },
 "nbformat": 4,
 "nbformat_minor": 5
}
