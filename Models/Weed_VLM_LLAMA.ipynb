{
 "cells": [
  {
   "cell_type": "markdown",
   "id": "67a8db09",
   "metadata": {},
   "source": [
    "# Zero-Shot Weed Detection with LLAMA VLMs (Batch Runner)"
   ]
  },
  {
   "cell_type": "code",
   "execution_count": null,
   "id": "42de46a8",
   "metadata": {},
   "outputs": [
    {
     "name": "stdout",
     "output_type": "stream",
     "text": [
      "Found 441 images to process.\n"
     ]
    },
    {
     "name": "stderr",
     "output_type": "stream",
     "text": [
      "Processing images: 100%|██████████| 441/441 [14:14<00:00,  1.94s/it]"
     ]
    },
    {
     "name": "stdout",
     "output_type": "stream",
     "text": [
      "Saved progress at 441/441 images\n",
      "\n",
      "Final results saved to:\n",
      " Excel: D:\\Khalifa University 2024\\Conferences - Research\\Al-Ain 2025\\llama4_Scout_weed_results.xlsx\n",
      " CSV:   D:\\Khalifa University 2024\\Conferences - Research\\Al-Ain 2025\\llama4_Scout_weed_results.csv\n"
     ]
    },
    {
     "name": "stderr",
     "output_type": "stream",
     "text": [
      "\n"
     ]
    }
   ],
   "source": [
    "# --- Cell 1: Zero-shot Weed Detection with Meta LLaMA Vision (Together AI) ---\n",
    "\n",
    "import os\n",
    "import base64\n",
    "import time\n",
    "from pathlib import Path\n",
    "\n",
    "import pandas as pd\n",
    "from tqdm import tqdm\n",
    "from together import Together\n",
    "\n",
    "# ==== REQUIRED: Set your Together API Key ====\n",
    "TOGETHER_API_KEY = \"\"\n",
    "client = Together(api_key=TOGETHER_API_KEY)\n",
    "\n",
    "# ==== User Inputs ====\n",
    "IMAGE_FOLDER = \"Joint_Val\"\n",
    "OUTPUT_EXCEL = \"llama4_Scout_weed_results.xlsx\"\n",
    "OUTPUT_CSV   = \"llama4_Scout_weed_results.csv\"\n",
    "\n",
    "# Choose the LLaMA Vision model from Together AI\n",
    "MODEL = \"meta-llama/Llama-4-Scout-17B-16E-Instruct\"\n",
    "# Alternative examples:\n",
    "# meta-llama/Llama-4-Scout-17B-16E-Instruct\n",
    "# meta-llama/Llama-4-Maverick-17B-128E-Instruct-FP8\n",
    "\n",
    "# ==================== PROMPT ====================\n",
    "PROMPT = (\n",
    "    \"Analyze the image and provide output in exactly this format, and nothing extra:\\n\"\n",
    "    \"Weed Detection: <Yes or No>\\n\"\n",
    "    \"Weed Location: <Mention Position in the Image>\\n\"\n",
    "    \"Reasoning: <Explain Reasoning>\\n\"\n",
    "    \"Crop Growth: <Early, Growing or Full Grown>\\n\"\n",
    "    \"Crop Type: <Predict Crop Type>\\n\"\n",
    "    \"If your main response is 'No Weed', Only then rewrite the response again with V2_ at the start of each field, assuming weed is present.\\n\"\n",
    ")\n",
    "\n",
    "# Optional: limit to certain image extensions\n",
    "IMAGE_EXTS = {\".jpg\", \".jpeg\", \".png\", \".bmp\", \".tif\", \".tiff\", \".webp\"}\n",
    "\n",
    "# Retry/backoff settings\n",
    "MAX_RETRIES = 5\n",
    "INITIAL_BACKOFF = 2.0  # seconds\n",
    "\n",
    "# --- Helper: encode + call Together API ---\n",
    "def call_together_vision(image_path: Path, prompt: str, model: str) -> str:\n",
    "    \"\"\"Call Together AI API with an image + prompt, with retries.\"\"\"\n",
    "    try:\n",
    "        with open(image_path, \"rb\") as image_file:\n",
    "            encoded = base64.b64encode(image_file.read()).decode(\"utf-8\")\n",
    "        base64_url = f\"data:image/jpeg;base64,{encoded}\"\n",
    "    except Exception as e:\n",
    "        return f\"ERROR: Failed to encode image - {e}\"\n",
    "\n",
    "    backoff = INITIAL_BACKOFF\n",
    "    for attempt in range(1, MAX_RETRIES + 1):\n",
    "        try:\n",
    "            response = client.chat.completions.create(\n",
    "                model=model,\n",
    "                messages=[\n",
    "                    {\n",
    "                        \"role\": \"user\",\n",
    "                        \"content\": [\n",
    "                            {\"type\": \"text\", \"text\": prompt},\n",
    "                            {\"type\": \"image_url\", \"image_url\": {\"url\": base64_url}},\n",
    "                        ],\n",
    "                    }\n",
    "                ],\n",
    "            )\n",
    "            text = response.choices[0].message.content\n",
    "            return text.strip() if text else \"\"\n",
    "        except Exception as e:\n",
    "            if attempt == MAX_RETRIES:\n",
    "                return f\"ERROR: Max retries exceeded - {e}\"\n",
    "            time.sleep(backoff)\n",
    "            backoff *= 2\n",
    "    return \"ERROR: Unknown error occurred.\"\n",
    "\n",
    "# --- Run Batch Inference ---\n",
    "img_dir = Path(IMAGE_FOLDER)\n",
    "assert img_dir.is_dir(), f\"IMAGE_FOLDER does not exist: {img_dir}\"\n",
    "\n",
    "images = sorted([p for p in img_dir.iterdir() if p.suffix.lower() in IMAGE_EXTS])\n",
    "print(f\"Found {len(images)} images to process.\")\n",
    "\n",
    "out_xlsx = Path(OUTPUT_EXCEL)\n",
    "out_csv = Path(OUTPUT_CSV)\n",
    "out_xlsx.parent.mkdir(parents=True, exist_ok=True)\n",
    "out_csv.parent.mkdir(parents=True, exist_ok=True)\n",
    "\n",
    "rows = []\n",
    "for i, p in enumerate(tqdm(images, desc=\"Processing images\"), start=1):\n",
    "    try:\n",
    "        llama_response = call_together_vision(p, PROMPT, MODEL)\n",
    "    except Exception as e:\n",
    "        llama_response = f\"ERROR: {e}\"\n",
    "\n",
    "    row = {\"Image\": p.name, \"Llama_Response\": llama_response}\n",
    "    rows.append(row)\n",
    "\n",
    "    # Save incrementally for safety\n",
    "    df = pd.DataFrame(rows, columns=[\"Image\", \"Llama_Response\"])\n",
    "    df.to_excel(out_xlsx, index=False)\n",
    "    df.to_csv(out_csv, index=False, encoding=\"utf-8\")\n",
    "\n",
    "    if i % 500 == 0 or i == len(images):\n",
    "        print(f\"Saved progress at {i}/{len(images)} images\")\n",
    "\n",
    "print(f\"\\nFinal results saved to:\\n Excel: {out_xlsx}\\n CSV:   {out_csv}\")\n"
   ]
  },
  {
   "cell_type": "code",
   "execution_count": null,
   "id": "7d7af554",
   "metadata": {},
   "outputs": [],
   "source": []
  }
 ],
 "metadata": {
  "kernelspec": {
   "display_name": "vlm",
   "language": "python",
   "name": "python3"
  },
  "language_info": {
   "codemirror_mode": {
    "name": "ipython",
    "version": 3
   },
   "file_extension": ".py",
   "mimetype": "text/x-python",
   "name": "python",
   "nbconvert_exporter": "python",
   "pygments_lexer": "ipython3",
   "version": "3.8.18"
  }
 },
 "nbformat": 4,
 "nbformat_minor": 5
}
